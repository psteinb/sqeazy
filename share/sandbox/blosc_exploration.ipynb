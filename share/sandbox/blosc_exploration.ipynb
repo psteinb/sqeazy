{
 "cells": [
  {
   "cell_type": "code",
   "execution_count": 4,
   "metadata": {},
   "outputs": [],
   "source": [
    "import tifffile\n",
    "import blosc\n",
    "import numpy as np\n",
    "\n",
    "blosc.set_nthreads(4)\n",
    "\n",
    "royer1 = \"/scratch/steinbac/sqeasy_data/xwing/droso-royer-may31-000005.tif\"\n",
    "xwingr = tifffile.imread(royer1)\n",
    "\n",
    "haase1 = \"/scratch/steinbac/sqeasy_data/xwing/000195-rhaase-20171129-fused-512x1024x92.tif\"\n",
    "xwingh = tifffile.imread(haase1)\n"
   ]
  },
  {
   "cell_type": "code",
   "execution_count": 5,
   "metadata": {},
   "outputs": [
    {
     "name": "stdout",
     "output_type": "stream",
     "text": [
      "(108, 1352, 532) (92, 1024, 512)\n"
     ]
    }
   ],
   "source": [
    "print(xwingr.shape,xwingh.shape)"
   ]
  },
  {
   "cell_type": "markdown",
   "metadata": {},
   "source": [
    "# study of block size dependence in blosc\n",
    "\n",
    "- varying the block size from 0.5,1,2,4,8 frames at a time to see change in compression ratio"
   ]
  },
  {
   "cell_type": "code",
   "execution_count": 7,
   "metadata": {},
   "outputs": [],
   "source": [
    "import math\n",
    "import time\n",
    "\n",
    "smallr = xwingr[:,:200,:]\n",
    "smallh = xwingh[:,:200,:]\n",
    "\n",
    "sizes = {\"smallr\" : len(smallr.tobytes()), \"smallh\" : len(smallh.tobytes())}\n",
    "\n",
    "bitshuffled_nbytes = {}\n",
    "\n",
    "def scan_blocksize(data,_shuffle = blosc.BITSHUFFLE):\n",
    "    value = []\n",
    "    for f in [0.1,0.25,0.5,1,2,4,8]:\n",
    "        blosc.set_blocksize( math.floor(f*data.shape[-1]*data.shape[-2]*2) )\n",
    "        start = time.process_time()\n",
    "        compressed = blosc.compress(data.tobytes(),shuffle=_shuffle,cname=\"lz4\")\n",
    "        end = time.process_time()\n",
    "        \n",
    "        value.append((f,len(compressed),end-start))\n",
    "    return value\n",
    "    \n",
    "bitshuffled_nbytes[\"smallr\"] = scan_blocksize(smallr)\n",
    "bitshuffled_nbytes[\"smallh\"] = scan_blocksize(smallh)"
   ]
  },
  {
   "cell_type": "code",
   "execution_count": 10,
   "metadata": {},
   "outputs": [
    {
     "name": "stdout",
     "output_type": "stream",
     "text": [
      "  factor   outbytes compression ratio\n",
      "smallr\n",
      "0.100000    4518718 5.086044316109127 217.62448883716283  MB/s\n",
      "0.250000    4340482 5.294895820325945 207.31147723858675  MB/s\n",
      "0.500000    4546011 5.0555091045754175 215.89189817968787  MB/s\n",
      "1.000000    3481865 6.600600540227723 108.00340629113894  MB/s\n",
      "2.000000    3473309 6.6168601756998875 107.62294009078424  MB/s\n",
      "4.000000    3460662 6.641041511710765 105.80248687325266  MB/s\n",
      "8.000000    3447474 6.66644621540293 105.2349121384035  MB/s\n",
      "smallh\n",
      "0.100000    4405217 4.27711052599679 106.75347732204749  MB/s\n",
      "0.250000    4341645 4.339737587941897 109.76641261457607  MB/s\n",
      "0.500000    4319646 4.361838909947713 111.08994533166046  MB/s\n",
      "1.000000    4316498 4.365019976842339 109.56294465635213  MB/s\n",
      "2.000000    4314466 4.367075786435679 106.94527350487064  MB/s\n",
      "4.000000    4293839 4.388054605680371 103.1637813466253  MB/s\n",
      "8.000000    4278461 4.403826516123438 103.99872048945329  MB/s\n"
     ]
    }
   ],
   "source": [
    "def summary(cdic,nbytes):\n",
    "    print(\"%8s %10s %s\"%(\"factor\",\"outbytes\",\"compression ratio\"))\n",
    "    for (k,v) in cdic.items():\n",
    "        print(k)\n",
    "        for item in v:\n",
    "            ratio = nbytes[k]/item[1]\n",
    "            bw = nbytes[k]/(1024*1024.*item[-1])\n",
    "            print(\"%8f %10i\"%(item[0],item[1]),ratio,bw,\" MB/s\")\n",
    "            \n",
    "summary(bitshuffled_nbytes,sizes)"
   ]
  },
  {
   "cell_type": "code",
   "execution_count": 11,
   "metadata": {},
   "outputs": [
    {
     "name": "stdout",
     "output_type": "stream",
     "text": [
      "  factor   outbytes compression ratio\n",
      "smallr\n",
      "0.100000    4518718 5.086044316109127 181.4593144185487  MB/s\n",
      "0.250000    4340482 5.294895820325945 220.19997367950285  MB/s\n",
      "0.500000    4546011 5.0555091045754175 219.53795573654244  MB/s\n",
      "1.000000    4513353 5.092090071394814 214.02248249937907  MB/s\n",
      "2.000000    4507745 5.098425044007591 215.6106555949238  MB/s\n",
      "4.000000    4505606 5.100845480053072 218.0719983267917  MB/s\n",
      "8.000000    4504560 5.102029942991102 222.86803208090257  MB/s\n",
      "smallh\n",
      "0.100000   11382028 1.6553816244345911 156.855552453919  MB/s\n",
      "0.250000   11372836 1.656719572848848 163.621441898938  MB/s\n",
      "0.500000    8339611 2.25929003163337 174.6027789814738  MB/s\n",
      "1.000000    8326104 2.262955158859414 162.14362174208307  MB/s\n",
      "2.000000    8323912 2.2635510803093544 179.8561871178973  MB/s\n",
      "4.000000    8322422 2.26395633386531 180.1625399740249  MB/s\n",
      "8.000000    8322001 2.264070864687471 179.26468094558135  MB/s\n"
     ]
    }
   ],
   "source": [
    "noshuffle_nbytes = {}\n",
    "noshuffle_nbytes[\"smallr\"] = scan_blocksize(smallr,blosc.NOSHUFFLE)\n",
    "noshuffle_nbytes[\"smallh\"] = scan_blocksize(smallh,blosc.NOSHUFFLE)\n",
    "summary(noshuffle_nbytes,sizes)"
   ]
  },
  {
   "cell_type": "code",
   "execution_count": null,
   "metadata": {
    "collapsed": true
   },
   "outputs": [],
   "source": []
  }
 ],
 "metadata": {
  "kernelspec": {
   "display_name": "Python 3",
   "language": "python",
   "name": "python3"
  },
  "language_info": {
   "codemirror_mode": {
    "name": "ipython",
    "version": 3
   },
   "file_extension": ".py",
   "mimetype": "text/x-python",
   "name": "python",
   "nbconvert_exporter": "python",
   "pygments_lexer": "ipython3",
   "version": "3.6.3"
  },
  "toc": {
   "nav_menu": {},
   "number_sections": true,
   "sideBar": true,
   "skip_h1_title": false,
   "toc_cell": false,
   "toc_position": {},
   "toc_section_display": "block",
   "toc_window_display": false
  }
 },
 "nbformat": 4,
 "nbformat_minor": 2
}
